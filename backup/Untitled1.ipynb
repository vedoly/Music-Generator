{
 "cells": [
  {
   "cell_type": "code",
   "execution_count": 1,
   "metadata": {},
   "outputs": [],
   "source": [
    "import numpy as np\n",
    "import tensorflow as tf"
   ]
  },
  {
   "cell_type": "code",
   "execution_count": 9,
   "metadata": {},
   "outputs": [
    {
     "ename": "ValueError",
     "evalue": "Input 0 of layer gru_2 is incompatible with the layer: expected ndim=3, found ndim=2. Full shape received: [32, 10]",
     "output_type": "error",
     "traceback": [
      "\u001b[1;31m---------------------------------------------------------------------------\u001b[0m",
      "\u001b[1;31mValueError\u001b[0m                                Traceback (most recent call last)",
      "\u001b[1;32m<ipython-input-9-b9b725a50814>\u001b[0m in \u001b[0;36m<module>\u001b[1;34m\u001b[0m\n\u001b[0;32m      2\u001b[0m \u001b[0mgru\u001b[0m \u001b[1;33m=\u001b[0m \u001b[0mtf\u001b[0m\u001b[1;33m.\u001b[0m\u001b[0mkeras\u001b[0m\u001b[1;33m.\u001b[0m\u001b[0mlayers\u001b[0m\u001b[1;33m.\u001b[0m\u001b[0mGRU\u001b[0m\u001b[1;33m(\u001b[0m\u001b[1;36m4\u001b[0m\u001b[1;33m)\u001b[0m\u001b[1;33m\u001b[0m\u001b[1;33m\u001b[0m\u001b[0m\n\u001b[0;32m      3\u001b[0m \u001b[1;33m\u001b[0m\u001b[0m\n\u001b[1;32m----> 4\u001b[1;33m \u001b[0moutput\u001b[0m \u001b[1;33m=\u001b[0m \u001b[0mgru\u001b[0m\u001b[1;33m(\u001b[0m\u001b[0minputs\u001b[0m\u001b[1;33m)\u001b[0m  \u001b[1;31m# The output has shape `[32, 4]`.\u001b[0m\u001b[1;33m\u001b[0m\u001b[1;33m\u001b[0m\u001b[0m\n\u001b[0m\u001b[0;32m      5\u001b[0m \u001b[1;33m\u001b[0m\u001b[0m\n\u001b[0;32m      6\u001b[0m \u001b[0mgru\u001b[0m \u001b[1;33m=\u001b[0m \u001b[0mtf\u001b[0m\u001b[1;33m.\u001b[0m\u001b[0mkeras\u001b[0m\u001b[1;33m.\u001b[0m\u001b[0mlayers\u001b[0m\u001b[1;33m.\u001b[0m\u001b[0mGRU\u001b[0m\u001b[1;33m(\u001b[0m\u001b[1;36m4\u001b[0m\u001b[1;33m,\u001b[0m \u001b[0mreturn_sequences\u001b[0m\u001b[1;33m=\u001b[0m\u001b[1;32mTrue\u001b[0m\u001b[1;33m,\u001b[0m \u001b[0mreturn_state\u001b[0m\u001b[1;33m=\u001b[0m\u001b[1;32mTrue\u001b[0m\u001b[1;33m)\u001b[0m\u001b[1;33m\u001b[0m\u001b[1;33m\u001b[0m\u001b[0m\n",
      "\u001b[1;32mC:\\ProgramData\\Anaconda3\\lib\\site-packages\\tensorflow\\python\\keras\\layers\\recurrent.py\u001b[0m in \u001b[0;36m__call__\u001b[1;34m(self, inputs, initial_state, constants, **kwargs)\u001b[0m\n\u001b[0;32m    617\u001b[0m \u001b[1;33m\u001b[0m\u001b[0m\n\u001b[0;32m    618\u001b[0m     \u001b[1;32mif\u001b[0m \u001b[0minitial_state\u001b[0m \u001b[1;32mis\u001b[0m \u001b[1;32mNone\u001b[0m \u001b[1;32mand\u001b[0m \u001b[0mconstants\u001b[0m \u001b[1;32mis\u001b[0m \u001b[1;32mNone\u001b[0m\u001b[1;33m:\u001b[0m\u001b[1;33m\u001b[0m\u001b[1;33m\u001b[0m\u001b[0m\n\u001b[1;32m--> 619\u001b[1;33m       \u001b[1;32mreturn\u001b[0m \u001b[0msuper\u001b[0m\u001b[1;33m(\u001b[0m\u001b[0mRNN\u001b[0m\u001b[1;33m,\u001b[0m \u001b[0mself\u001b[0m\u001b[1;33m)\u001b[0m\u001b[1;33m.\u001b[0m\u001b[0m__call__\u001b[0m\u001b[1;33m(\u001b[0m\u001b[0minputs\u001b[0m\u001b[1;33m,\u001b[0m \u001b[1;33m**\u001b[0m\u001b[0mkwargs\u001b[0m\u001b[1;33m)\u001b[0m\u001b[1;33m\u001b[0m\u001b[1;33m\u001b[0m\u001b[0m\n\u001b[0m\u001b[0;32m    620\u001b[0m \u001b[1;33m\u001b[0m\u001b[0m\n\u001b[0;32m    621\u001b[0m     \u001b[1;31m# If any of `initial_state` or `constants` are specified and are Keras\u001b[0m\u001b[1;33m\u001b[0m\u001b[1;33m\u001b[0m\u001b[1;33m\u001b[0m\u001b[0m\n",
      "\u001b[1;32mC:\\ProgramData\\Anaconda3\\lib\\site-packages\\tensorflow\\python\\keras\\engine\\base_layer.py\u001b[0m in \u001b[0;36m__call__\u001b[1;34m(self, inputs, *args, **kwargs)\u001b[0m\n\u001b[0;32m    584\u001b[0m         \u001b[1;31m# the corresponding TF subgraph inside `backend.get_graph()`\u001b[0m\u001b[1;33m\u001b[0m\u001b[1;33m\u001b[0m\u001b[1;33m\u001b[0m\u001b[0m\n\u001b[0;32m    585\u001b[0m         input_spec.assert_input_compatibility(self.input_spec, inputs,\n\u001b[1;32m--> 586\u001b[1;33m                                               self.name)\n\u001b[0m\u001b[0;32m    587\u001b[0m         \u001b[0mgraph\u001b[0m \u001b[1;33m=\u001b[0m \u001b[0mbackend\u001b[0m\u001b[1;33m.\u001b[0m\u001b[0mget_graph\u001b[0m\u001b[1;33m(\u001b[0m\u001b[1;33m)\u001b[0m\u001b[1;33m\u001b[0m\u001b[1;33m\u001b[0m\u001b[0m\n\u001b[0;32m    588\u001b[0m         \u001b[1;32mwith\u001b[0m \u001b[0mgraph\u001b[0m\u001b[1;33m.\u001b[0m\u001b[0mas_default\u001b[0m\u001b[1;33m(\u001b[0m\u001b[1;33m)\u001b[0m\u001b[1;33m,\u001b[0m \u001b[0mbackend\u001b[0m\u001b[1;33m.\u001b[0m\u001b[0mname_scope\u001b[0m\u001b[1;33m(\u001b[0m\u001b[0mself\u001b[0m\u001b[1;33m.\u001b[0m\u001b[0m_name_scope\u001b[0m\u001b[1;33m(\u001b[0m\u001b[1;33m)\u001b[0m\u001b[1;33m)\u001b[0m\u001b[1;33m:\u001b[0m\u001b[1;33m\u001b[0m\u001b[1;33m\u001b[0m\u001b[0m\n",
      "\u001b[1;32mC:\\ProgramData\\Anaconda3\\lib\\site-packages\\tensorflow\\python\\keras\\engine\\input_spec.py\u001b[0m in \u001b[0;36massert_input_compatibility\u001b[1;34m(input_spec, inputs, layer_name)\u001b[0m\n\u001b[0;32m    121\u001b[0m                          \u001b[1;34m'expected ndim='\u001b[0m \u001b[1;33m+\u001b[0m \u001b[0mstr\u001b[0m\u001b[1;33m(\u001b[0m\u001b[0mspec\u001b[0m\u001b[1;33m.\u001b[0m\u001b[0mndim\u001b[0m\u001b[1;33m)\u001b[0m \u001b[1;33m+\u001b[0m \u001b[1;34m', found ndim='\u001b[0m \u001b[1;33m+\u001b[0m\u001b[1;33m\u001b[0m\u001b[1;33m\u001b[0m\u001b[0m\n\u001b[0;32m    122\u001b[0m                          \u001b[0mstr\u001b[0m\u001b[1;33m(\u001b[0m\u001b[0mndim\u001b[0m\u001b[1;33m)\u001b[0m \u001b[1;33m+\u001b[0m \u001b[1;34m'. Full shape received: '\u001b[0m \u001b[1;33m+\u001b[0m\u001b[1;33m\u001b[0m\u001b[1;33m\u001b[0m\u001b[0m\n\u001b[1;32m--> 123\u001b[1;33m                          str(x.shape.as_list()))\n\u001b[0m\u001b[0;32m    124\u001b[0m     \u001b[1;32mif\u001b[0m \u001b[0mspec\u001b[0m\u001b[1;33m.\u001b[0m\u001b[0mmax_ndim\u001b[0m \u001b[1;32mis\u001b[0m \u001b[1;32mnot\u001b[0m \u001b[1;32mNone\u001b[0m\u001b[1;33m:\u001b[0m\u001b[1;33m\u001b[0m\u001b[1;33m\u001b[0m\u001b[0m\n\u001b[0;32m    125\u001b[0m       \u001b[0mndim\u001b[0m \u001b[1;33m=\u001b[0m \u001b[0mx\u001b[0m\u001b[1;33m.\u001b[0m\u001b[0mshape\u001b[0m\u001b[1;33m.\u001b[0m\u001b[0mndims\u001b[0m\u001b[1;33m\u001b[0m\u001b[1;33m\u001b[0m\u001b[0m\n",
      "\u001b[1;31mValueError\u001b[0m: Input 0 of layer gru_2 is incompatible with the layer: expected ndim=3, found ndim=2. Full shape received: [32, 10]"
     ]
    }
   ],
   "source": [
    "\n",
    "\n",
    "inputs = np.random.random([32, 10]).astype(np.float32)\n",
    "gru = tf.keras.layers.GRU(4)\n",
    "\n",
    "output = gru(inputs)  # The output has shape `[32, 4]`.\n",
    "\n",
    "gru = tf.keras.layers.GRU(4, return_sequences=True, return_state=True)\n",
    "\n",
    "# whole_sequence_output has shape `[32, 10, 4]`.\n",
    "# final_state has shape `[32, 4]`.\n",
    "whole_sequence_output, final_state = gru(inputs)"
   ]
  },
  {
   "cell_type": "code",
   "execution_count": 3,
   "metadata": {},
   "outputs": [
    {
     "data": {
      "text/plain": [
       "<tf.Tensor 'gru_1/transpose_1:0' shape=(32, 10, 4) dtype=float32>"
      ]
     },
     "execution_count": 3,
     "metadata": {},
     "output_type": "execute_result"
    }
   ],
   "source": [
    "whole_sequence_output"
   ]
  },
  {
   "cell_type": "code",
   "execution_count": 5,
   "metadata": {},
   "outputs": [
    {
     "data": {
      "text/plain": [
       "<tf.Tensor 'gru_1/while/Exit_3:0' shape=(32, 4) dtype=float32>"
      ]
     },
     "execution_count": 5,
     "metadata": {},
     "output_type": "execute_result"
    }
   ],
   "source": [
    "final_state"
   ]
  },
  {
   "cell_type": "code",
   "execution_count": 7,
   "metadata": {},
   "outputs": [
    {
     "data": {
      "text/plain": [
       "<tf.Tensor 'gru/strided_slice_12:0' shape=(32, 4) dtype=float32>"
      ]
     },
     "execution_count": 7,
     "metadata": {},
     "output_type": "execute_result"
    }
   ],
   "source": [
    "output"
   ]
  },
  {
   "cell_type": "code",
   "execution_count": 8,
   "metadata": {},
   "outputs": [
    {
     "data": {
      "text/plain": [
       "array([[[0.9257694 , 0.43851236, 0.43199518, ..., 0.99022317,\n",
       "         0.0169448 , 0.02563945],\n",
       "        [0.67794156, 0.84165025, 0.06903332, ..., 0.05801285,\n",
       "         0.00939364, 0.30509764],\n",
       "        [0.80465037, 0.46198648, 0.96491224, ..., 0.5410321 ,\n",
       "         0.35765734, 0.02958454],\n",
       "        ...,\n",
       "        [0.66617876, 0.74077165, 0.68487024, ..., 0.47853532,\n",
       "         0.12957066, 0.11684161],\n",
       "        [0.40853095, 0.49715045, 0.5069541 , ..., 0.5882042 ,\n",
       "         0.7412207 , 0.11974721],\n",
       "        [0.4371505 , 0.43063724, 0.6625851 , ..., 0.88623166,\n",
       "         0.8166206 , 0.4293803 ]],\n",
       "\n",
       "       [[0.9163721 , 0.7128618 , 0.98669285, ..., 0.05846668,\n",
       "         0.65229243, 0.4287875 ],\n",
       "        [0.45674145, 0.49114317, 0.27737004, ..., 0.1407914 ,\n",
       "         0.7826683 , 0.84145236],\n",
       "        [0.50466913, 0.59497464, 0.98330635, ..., 0.8426072 ,\n",
       "         0.0384937 , 0.9595158 ],\n",
       "        ...,\n",
       "        [0.7965682 , 0.9901807 , 0.6321368 , ..., 0.859804  ,\n",
       "         0.72678584, 0.44269913],\n",
       "        [0.2804217 , 0.4852589 , 0.2889455 , ..., 0.9750279 ,\n",
       "         0.16445078, 0.23951416],\n",
       "        [0.0686793 , 0.73054194, 0.27536723, ..., 0.27351397,\n",
       "         0.82953   , 0.1067533 ]],\n",
       "\n",
       "       [[0.5408497 , 0.07582022, 0.673524  , ..., 0.02343559,\n",
       "         0.41586858, 0.4051806 ],\n",
       "        [0.36003315, 0.15060961, 0.65715516, ..., 0.82857454,\n",
       "         0.6826174 , 0.89844364],\n",
       "        [0.11607287, 0.38678923, 0.4193977 , ..., 0.15515254,\n",
       "         0.7053415 , 0.8919662 ],\n",
       "        ...,\n",
       "        [0.39965743, 0.69405746, 0.82919616, ..., 0.5633712 ,\n",
       "         0.36385077, 0.9941433 ],\n",
       "        [0.05348592, 0.17708498, 0.92076343, ..., 0.76826495,\n",
       "         0.83631736, 0.43205315],\n",
       "        [0.51079386, 0.6015567 , 0.32874653, ..., 0.16995753,\n",
       "         0.13648668, 0.8768129 ]],\n",
       "\n",
       "       ...,\n",
       "\n",
       "       [[0.8452595 , 0.36987516, 0.61811095, ..., 0.6423338 ,\n",
       "         0.7178145 , 0.07633096],\n",
       "        [0.04819446, 0.7445384 , 0.00170717, ..., 0.7831173 ,\n",
       "         0.5963705 , 0.85966134],\n",
       "        [0.35381848, 0.9101116 , 0.67674106, ..., 0.63882035,\n",
       "         0.26401544, 0.60981727],\n",
       "        ...,\n",
       "        [0.3080951 , 0.37059605, 0.03803154, ..., 0.915434  ,\n",
       "         0.4513244 , 0.92418295],\n",
       "        [0.20275299, 0.503461  , 0.670551  , ..., 0.35748443,\n",
       "         0.98942006, 0.3155073 ],\n",
       "        [0.54873   , 0.21168263, 0.85446596, ..., 0.7876501 ,\n",
       "         0.26337734, 0.39453503]],\n",
       "\n",
       "       [[0.8445007 , 0.49419245, 0.4114723 , ..., 0.73322827,\n",
       "         0.22104196, 0.05716297],\n",
       "        [0.680644  , 0.7509958 , 0.06087407, ..., 0.8533273 ,\n",
       "         0.779698  , 0.38345283],\n",
       "        [0.5597213 , 0.05654065, 0.7485594 , ..., 0.8939455 ,\n",
       "         0.20781372, 0.11041796],\n",
       "        ...,\n",
       "        [0.86594117, 0.17271216, 0.58559984, ..., 0.21182851,\n",
       "         0.5729113 , 0.3933883 ],\n",
       "        [0.3978506 , 0.8006121 , 0.8457731 , ..., 0.5214166 ,\n",
       "         0.42758816, 0.44502994],\n",
       "        [0.7071773 , 0.66338784, 0.07062876, ..., 0.28989917,\n",
       "         0.14399764, 0.308522  ]],\n",
       "\n",
       "       [[0.6510196 , 0.29649723, 0.93073744, ..., 0.6255608 ,\n",
       "         0.20370637, 0.6636439 ],\n",
       "        [0.3600195 , 0.47286186, 0.25217855, ..., 0.38472053,\n",
       "         0.64067   , 0.8074135 ],\n",
       "        [0.21120583, 0.06465244, 0.19816941, ..., 0.82501584,\n",
       "         0.36361197, 0.9296144 ],\n",
       "        ...,\n",
       "        [0.4399519 , 0.49711123, 0.2240592 , ..., 0.9159737 ,\n",
       "         0.8953656 , 0.39216182],\n",
       "        [0.29147115, 0.98398006, 0.9230968 , ..., 0.9090228 ,\n",
       "         0.43212032, 0.37813196],\n",
       "        [0.3772204 , 0.8883422 , 0.23837362, ..., 0.5106448 ,\n",
       "         0.36446786, 0.092423  ]]], dtype=float32)"
      ]
     },
     "execution_count": 8,
     "metadata": {},
     "output_type": "execute_result"
    }
   ],
   "source": [
    "inputs"
   ]
  }
 ],
 "metadata": {
  "kernelspec": {
   "display_name": "Python 3",
   "language": "python",
   "name": "python3"
  },
  "language_info": {
   "codemirror_mode": {
    "name": "ipython",
    "version": 3
   },
   "file_extension": ".py",
   "mimetype": "text/x-python",
   "name": "python",
   "nbconvert_exporter": "python",
   "pygments_lexer": "ipython3",
   "version": "3.7.4"
  }
 },
 "nbformat": 4,
 "nbformat_minor": 2
}
